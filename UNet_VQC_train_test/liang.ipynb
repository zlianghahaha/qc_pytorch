{
  "nbformat": 4,
  "nbformat_minor": 2,
  "metadata": {
    "orig_nbformat": 4,
    "language_info": {
      "name": "python",
      "version": "3.8.10",
      "mimetype": "text/x-python",
      "codemirror_mode": {
        "name": "ipython",
        "version": 3
      },
      "pygments_lexer": "ipython3",
      "nbconvert_exporter": "python",
      "file_extension": ".py"
    },
    "kernelspec": {
      "name": "python3",
      "display_name": "Python 3.8.10 64-bit ('qf': conda)"
    },
    "interpreter": {
      "hash": "f24048f0d5bdb0ff49c5e7c8a9899a65bc3ab13b0f32660a2227453ca6b95fd8"
    },
    "colab": {
      "name": "liang.ipynb",
      "provenance": []
    }
  },
  "cells": [
    {
      "cell_type": "code",
      "execution_count": 32,
      "source": [
        "try:\n",
        "    import torch  \n",
        "    print('Module torch was installed')\n",
        "except ImportError:    \n",
        "    print(\"Installinng torch 1.8.1\")\n",
        "    !pip install -q torch==1.8.1\n",
        "try:\n",
        "    import torchvision  \n",
        "    print('Module torchvision was installed')\n",
        "except ImportError:    \n",
        "    print(\"Installinng torchvision 0.4.0\")\n",
        "    !pip install -q torchvision==0.4.0\n",
        "    \n",
        "try:\n",
        "    import qiskit  \n",
        "    print('Module qiskit was installed')\n",
        "except ImportError:    \n",
        "    print(\"Installinng qiskit 0.29.0\")\n",
        "    !pip install -q qiskit==0.29.0\n",
        "import sys\n",
        "!pip install pylatexenc\n",
        "!wget --no-check-certificate 'https://docs.google.com/uc?export=download&id=1VYR5kM8oCGaMXPIq0K1UY7u53a77vmHA' -O codes.tar.gz\n",
        "!tar zxvf /content/codes.tar.gz\n",
        "\n",
        "sys.path.append('/content/libs/')\n",
        "\n"
      ],
      "outputs": [
        {
          "output_type": "stream",
          "name": "stdout",
          "text": [
            "Module torch was installed\n",
            "Module torchvision was installed\n",
            "Module qiskit was installed\n",
            "Requirement already satisfied: pylatexenc in /home/hzr/anaconda3/envs/qf/lib/python3.8/site-packages (2.10)\n",
            "--2021-08-16 13:44:48--  https://docs.google.com/uc?export=download&id=1VYR5kM8oCGaMXPIq0K1UY7u53a77vmHA\n",
            "Connecting to 127.0.0.1:34931... connected.\n",
            "Proxy request sent, awaiting response... 302 Moved Temporarily\n",
            "Location: https://doc-00-as-docs.googleusercontent.com/docs/securesc/ha0ro937gcuc7l7deffksulhg5h7mbp1/bpg0hre5d3u1chck6i5fpgt532mhgaob/1629092625000/01567206451901200540/*/1VYR5kM8oCGaMXPIq0K1UY7u53a77vmHA?e=download [following]\n",
            "Warning: wildcards not supported in HTTP.\n",
            "--2021-08-16 13:44:50--  https://doc-00-as-docs.googleusercontent.com/docs/securesc/ha0ro937gcuc7l7deffksulhg5h7mbp1/bpg0hre5d3u1chck6i5fpgt532mhgaob/1629092625000/01567206451901200540/*/1VYR5kM8oCGaMXPIq0K1UY7u53a77vmHA?e=download\n",
            "Connecting to 127.0.0.1:34931... connected.\n",
            "Proxy request sent, awaiting response... 200 OK\n",
            "Length: 46804 (46K) [application/gzip]\n",
            "Saving to: ‘codes.tar.gz’\n",
            "\n",
            "codes.tar.gz        100%[===================>]  45.71K  --.-KB/s    in 0.05s   \n",
            "\n",
            "2021-08-16 13:44:51 (895 KB/s) - ‘codes.tar.gz’ saved [46804/46804]\n",
            "\n",
            "tar (child): /content/codes.tar.gz: Cannot open: No such file or directory\n",
            "tar (child): Error is not recoverable: exiting now\n",
            "tar: Child returned status 2\n",
            "tar: Error is not recoverable: exiting now\n"
          ]
        }
      ],
      "metadata": {
        "colab": {
          "base_uri": "https://localhost:8080/"
        },
        "id": "E0DDSuYoBURg",
        "outputId": "6ca7abd9-23d7-491a-cbbb-01b661ce718a"
      }
    },
    {
      "cell_type": "code",
      "execution_count": 33,
      "source": [
        "import torch\n",
        "import torchvision\n",
        "import numpy as np\n",
        "import matplotlib.pyplot as plt\n",
        "from PIL import Image\n",
        "\n",
        "\n",
        "import sys\n",
        "import functools\n",
        "from qiskit import  QuantumCircuit, ClassicalRegister\n",
        "from qiskit import Aer, execute\n",
        "from qiskit.circuit import Qubit\n",
        "import math\n",
        "\n",
        "from circuit.lib_qiskit_commons import *\n",
        "from circuit.lib_circuit_linner_square import *\n",
        "from training.lib_dataloader import *\n",
        "\n",
        "import qiskit\n",
        "\n",
        "print = functools.partial(print, flush=True)\n",
        "\n",
        "from qiskit import Aer, execute,IBMQ,transpile\n",
        "from qiskit.providers.aer.noise.errors import pauli_error, depolarizing_error\n",
        "from qiskit.providers.aer.noise import NoiseModel\n",
        "from qiskit.visualization import *\n",
        "from qiskit import circuit\n",
        "\n",
        "\n",
        "####TODO:change simulator,add errors.####\n",
        "def my_ibmq(circuit,shots,Simulation = True,backend_name='ibmq_essex'):     \n",
        "    if not Simulation:\n",
        "        provider = IBMQ.get_provider('ibm-q-academic')\n",
        "        backend = provider.get_backend(backend_name)\n",
        "    else:\n",
        "        backend = Aer.get_backend('qasm_simulator')\n",
        "    # circuit.save_statevector()\n",
        "    p_gate = 0.01\n",
        "    x_error_1 = pauli_error([('X',p_gate), ('I', 1 - p_gate)])\n",
        "    z_error_1 = pauli_error([('Z',p_gate), ('I', 1 - p_gate)])\n",
        "\n",
        "    error_1 = x_error_1.compose(z_error_1)\n",
        "    error_2 = error_1.tensor(error_1)\n",
        "    error_3 = error_2.tensor(error_1)\n",
        "\n",
        "    noise_model = NoiseModel()\n",
        "    noise_model.add_all_qubit_quantum_error(error_1, [\"x\"]) # single qubit gate error is applied to x gates\n",
        "    noise_model.add_all_qubit_quantum_error(error_1, [\"z\"]) # single qubit gate error is applied to x gates\n",
        "\n",
        "    noise_model.add_all_qubit_quantum_error(error_2, [\"cx\"]) # two qubit gate error is applied to cx gates\n",
        "    noise_model.add_all_qubit_quantum_error(error_2, [\"cz\"]) # two qubit gate error is applied to cx gates\n",
        "\n",
        "    noise_model.add_all_qubit_quantum_error(error_3, [\"ccx\"])\n",
        "\n",
        "    basis_gates = noise_model.basis_gates\n",
        "    job_ibm_q = execute(circuit, backend, shots=shots, basis_gates=basis_gates, noise_model=noise_model)\n",
        "    if not Simulation:\n",
        "        job_monitor(job_ibm_q)\n",
        "    result_ibm_q = job_ibm_q.result()\n",
        "\n",
        "    counts = result_ibm_q.get_counts()\n",
        "    \n",
        "    return counts"
      ],
      "outputs": [],
      "metadata": {
        "id": "te3pPDxLB-2G"
      }
    },
    {
      "cell_type": "code",
      "execution_count": 34,
      "source": [
        "def equa(circuit,in_qubits,out_qubit,aux = []):\n",
        "  for i in range(3):\n",
        "            circuit.h(in_qubits[i])\n",
        "            circuit.x(in_qubits[i])\n",
        "  circuit.barrier()\n",
        "  #first ccx\n",
        "  circuit.cx(in_qubits[0], aux[0])\n",
        "  circuit.cx(in_qubits[0], aux[0])\n",
        "  circuit.cx(in_qubits[1], aux[0])\n",
        "  circuit.cx(in_qubits[1], aux[0])\n",
        "  circuit.cx(in_qubits[0], in_qubits[1])\n",
        "  circuit.cx(in_qubits[0], in_qubits[1])\n",
        "  #second ccx\n",
        "  circuit.cx(in_qubits[2], aux[1])\n",
        "  circuit.cx(in_qubits[2], aux[1])\n",
        "  circuit.cx(aux[0], aux[1])\n",
        "  circuit.cx(aux[0], aux[1])\n",
        "  circuit.cx(in_qubits[2], aux[0])\n",
        "  circuit.cx(in_qubits[2], aux[0])\n",
        "  circuit.cz(aux[1], out_qubit[0])\n",
        "  #third ccx\n",
        "  circuit.cx(in_qubits[2], aux[1])\n",
        "  circuit.cx(in_qubits[2], aux[1])\n",
        "  circuit.cx(aux[0], aux[1])\n",
        "  circuit.cx(aux[0], aux[1])\n",
        "  circuit.cx(in_qubits[2], aux[0])\n",
        "  circuit.cx(in_qubits[2], aux[0])\n",
        "  #fourth ccx\n",
        "  circuit.cx(in_qubits[0], aux[0])\n",
        "  circuit.cx(in_qubits[0], aux[0])\n",
        "  circuit.cx(in_qubits[1], aux[0])\n",
        "  circuit.cx(in_qubits[1], aux[0])\n",
        "  circuit.cx(in_qubits[0], in_qubits[1])\n",
        "  circuit.cx(in_qubits[0], in_qubits[1])        \n"
      ],
      "outputs": [],
      "metadata": {
        "id": "nc4HJ29bb4z_"
      }
    },
    {
      "cell_type": "code",
      "execution_count": 35,
      "source": [
        "def func(circuit,in_qubits,out_qubit,aux = []):\n",
        "\n",
        "  circuit.h(in_qubits)\n",
        "  circuit.x(in_qubits)\n",
        "  circuit.barrier()\n",
        "  #first ccx\n",
        "  circuit.cx(in_qubits[0], aux[0])\n",
        "  circuit.cx(in_qubits[0], aux[0])\n",
        "  circuit.cx(in_qubits[1], aux[0])\n",
        "  circuit.cx(in_qubits[1], aux[0])\n",
        "  circuit.swap(aux[0], in_qubits[1])\n",
        "  circuit.cx(in_qubits[0], in_qubits[1])\n",
        "  circuit.cx(in_qubits[0], in_qubits[1])\n",
        "  #second ccx\n",
        "  circuit.cx(in_qubits[2], aux[1])\n",
        "  circuit.cx(in_qubits[2], aux[1])\n",
        "  circuit.cx(aux[0], aux[1])\n",
        "  circuit.cx(aux[0], aux[1])\n",
        "  circuit.swap(aux[1], in_qubits[2])\n",
        "  circuit.cx(in_qubits[2], aux[0])\n",
        "  circuit.cx(in_qubits[2], aux[0])\n",
        "  circuit.cz(aux[1], out_qubit[0])\n",
        "  #third ccx\n",
        "  circuit.cx(in_qubits[2], aux[1])\n",
        "  circuit.cx(in_qubits[2], aux[1])\n",
        "  circuit.swap(in_qubits[2], aux[1])\n",
        "  circuit.cx(aux[0], aux[1])\n",
        "  circuit.cx(aux[0], aux[1])\n",
        "  circuit.cx(aux[1], in_qubits[2])\n",
        "  circuit.cx(aux[0], aux[1])\n",
        "  circuit.cx(aux[1], in_qubits[2])\n",
        "  circuit.cx(aux[0], aux[1])\n",
        "  circuit.cx(in_qubits[2], aux[0])\n",
        "  circuit.cx(in_qubits[2], aux[0])\n",
        "  #fourth ccx\n",
        "  circuit.swap(in_qubits[1], aux[0])\n",
        "  circuit.cx(in_qubits[0], aux[0])\n",
        "  circuit.cx(in_qubits[0], aux[0])\n",
        "  circuit.cx(in_qubits[1], aux[0])\n",
        "  circuit.cx(in_qubits[1], aux[0])\n",
        "  circuit.cx(aux[0], in_qubits[1])\n",
        "  circuit.cx(in_qubits[0], in_qubits[1])        \n",
        "  circuit.cx(aux[0], in_qubits[1])\n",
        "  circuit.cx(in_qubits[0], in_qubits[1])\n",
        "  circuit.cx(in_qubits[0], in_qubits[1])\n",
        "  circuit.cx(in_qubits[0], in_qubits[1])        \n"
      ],
      "outputs": [],
      "metadata": {
        "id": "3up5epoRFDUI"
      }
    },
    {
      "cell_type": "markdown",
      "source": [
        "## define parameters"
      ],
      "metadata": {
        "id": "d96sgIzCAGlm"
      }
    },
    {
      "cell_type": "code",
      "execution_count": 36,
      "source": [
        "#define parameter\n",
        "input_data_num =50\n",
        "init_weight = torch.tensor([[-1,-1,1,1,1,1,1,1]],dtype=torch.double)\n",
        "threshold = 0.2\n",
        "qubit_num = 3\n",
        "\n",
        "def sign(input):\n",
        "    output = input.new(input.size())\n",
        "    output[input >= threshold] = 1\n",
        "    output[input < threshold] = -1\n",
        "    return output"
      ],
      "outputs": [],
      "metadata": {
        "id": "3_b5893lAGlm"
      }
    },
    {
      "cell_type": "markdown",
      "source": [
        "## generate datasets"
      ],
      "metadata": {
        "id": "Lbx54EzVAGlm"
      }
    },
    {
      "cell_type": "code",
      "execution_count": 37,
      "source": [
        "\n",
        "\n",
        "#get correct result with no error\n",
        "\n",
        "input_data = torch.rand(input_data_num,int(math.pow(2,qubit_num)),dtype=torch.double)\n",
        "input_data_quantum_matrix = []\n",
        "for i in range(input_data_num):\n",
        "    quantum_matrix =to_quantum_matrix(input_data[i])\n",
        "    # n1_q_gates,n1_idx =ULayerCircuit.extract_from_weight(init_weight[0])\n",
        "    input_data_quantum_matrix.append(quantum_matrix[:, 0].view(-1))\n",
        "\n",
        "input_data_quantum_matrix = torch.stack(input_data_quantum_matrix)\n",
        "# print(input_data_quantum_matrix.t()[0:8].t())\n",
        "# print(input_data_quantum_matrix)\n",
        "correct_result =torch.mm(init_weight,input_data_quantum_matrix.t())\n",
        "correct_result = correct_result*correct_result/math.pow(2,qubit_num)\n",
        "# print(correct_result)\n",
        "correct_result_binary = sign(correct_result.t())\n",
        "print(correct_result_binary.t())\n",
        "torch.save(input_data, \"./liang_random_data.pt\")\n",
        "torch.save(correct_result_binary.view(-1), \"./liang_random_target.pt\")\n",
        "torch.save(init_weight, \"./liang_weight.pt\")\n"
      ],
      "outputs": [
        {
          "output_type": "stream",
          "name": "stdout",
          "text": [
            "tensor([[ 1., -1.,  1., -1.,  1.,  1.,  1.,  1., -1.,  1., -1.,  1., -1.,  1.,\n",
            "         -1., -1.,  1.,  1.,  1., -1., -1.,  1., -1.,  1.,  1.,  1.,  1., -1.,\n",
            "         -1., -1.,  1.,  1.,  1.,  1., -1.,  1., -1.,  1., -1.,  1.,  1.,  1.,\n",
            "         -1., -1.,  1., -1.,  1., -1., -1., -1.]], dtype=torch.float64)\n"
          ]
        }
      ],
      "metadata": {
        "colab": {
          "base_uri": "https://localhost:8080/"
        },
        "id": "oEKOxlfZAGlm",
        "outputId": "0ffcf339-4134-4b8b-c482-868435db3616"
      }
    },
    {
      "cell_type": "markdown",
      "source": [
        "## define forward,including mapping "
      ],
      "metadata": {
        "id": "j1IiYQUuAGln"
      }
    },
    {
      "cell_type": "code",
      "execution_count": 38,
      "source": [
        "\n",
        "#example of u-layer\n",
        "i = 0\n",
        "#transform input_data into u-Mat\n",
        "quantum_matrix =to_quantum_matrix(input_data[i])\n",
        "\n",
        "def forward(circuit,quantum_matrix,weight, is_mapping = False):\n",
        "    #generate u-layer\n",
        "    #define your input and output number\n",
        "    u_layer = ULayerCircuit(qubit_num,1) \n",
        "    #init circuit\n",
        "    #add input qubit to your circuit\n",
        "    inps = u_layer.add_input_qubits(circuit)\n",
        "    \n",
        "    aux = u_layer.add_aux(circuit)\n",
        "    \n",
        "    #add output qubit to your circuit\n",
        "    u_layer_out_qubits = u_layer.add_out_qubits(circuit)\n",
        "    \n",
        "    #add ulayer to your circuit\n",
        "    #add ulayer to your circuit\n",
        "    u_layer.add_weight(circuit,weight,inps,quantum_matrix,aux)\n",
        "\n",
        "    ####TODO: add mapping code here ####\n",
        "\n",
        "    ############################\n",
        "    \n",
        "    if is_mapping:\n",
        "        func(circuit,inps[0],u_layer_out_qubits,aux)\n",
        "    else:\n",
        "        u_layer.sum2(circuit,inps,u_layer_out_qubits,aux)\n",
        "    \n",
        "    #measure\n",
        "    c_reg = ClassicalRegister(1,\"reg\")\n",
        "    circuit.add_register(c_reg)\n",
        "    circuit.measure(u_layer_out_qubits[0],c_reg[0])\n",
        "    \n",
        "    #get the result\n",
        "    qc_shots=8192\n",
        "    opt_class_prob = []\n",
        "    opt_counts = my_ibmq(circuit,qc_shots,True)\n",
        "    (opt_mycount,bits) = analyze(opt_counts)\n",
        "    for b in range(bits):\n",
        "        opt_class_prob.append(float(opt_mycount[b])/qc_shots)\n",
        "    return opt_class_prob[0]\n",
        "\n",
        "circuit = QuantumCircuit()\n",
        "prob = forward(circuit,quantum_matrix,init_weight, False)\n",
        "print(\"correct result  :\",correct_result_binary[i][0])\n",
        "print(\"Result :\",prob)\n",
        "circuit.draw('mpl',fold=50)\n",
        "\n",
        "\n",
        "######################################################\n",
        "\n"
      ],
      "outputs": [
        {
          "output_type": "stream",
          "name": "stdout",
          "text": [
            "correct result  : tensor(1., dtype=torch.float64)\n",
            "Result : 0.229248046875\n"
          ]
        },
        {
          "output_type": "execute_result",
          "data": {
            "text/plain": [
              "<Figure size 969.964x445.48 with 1 Axes>"
            ],
            "image/svg+xml": "<?xml version=\"1.0\" encoding=\"utf-8\" standalone=\"no\"?>\n<!DOCTYPE svg PUBLIC \"-//W3C//DTD SVG 1.1//EN\"\n  \"http://www.w3.org/Graphics/SVG/1.1/DTD/svg11.dtd\">\n<svg height=\"350.7374pt\" version=\"1.1\" viewBox=\"0 0 746.722874 350.7374\" width=\"746.722874pt\" xmlns=\"http://www.w3.org/2000/svg\" xmlns:xlink=\"http://www.w3.org/1999/xlink\">\n <metadata>\n  <rdf:RDF xmlns:cc=\"http://creativecommons.org/ns#\" xmlns:dc=\"http://purl.org/dc/elements/1.1/\" xmlns:rdf=\"http://www.w3.org/1999/02/22-rdf-syntax-ns#\">\n   <cc:Work>\n    <dc:type rdf:resource=\"http://purl.org/dc/dcmitype/StillImage\"/>\n    <dc:date>2021-08-16T13:44:52.048246</dc:date>\n    <dc:format>image/svg+xml</dc:format>\n    <dc:creator>\n     <cc:Agent>\n      <dc:title>Matplotlib v3.4.2, https://matplotlib.org/</dc:title>\n     </cc:Agent>\n    </dc:creator>\n   </cc:Work>\n  </rdf:RDF>\n </metadata>\n <defs>\n  <style type=\"text/css\">*{stroke-linecap:butt;stroke-linejoin:round;}</style>\n </defs>\n <g id=\"figure_1\">\n  <g id=\"patch_1\">\n   <path d=\"M 0 350.7374 \nL 746.722874 350.7374 \nL 746.722874 0 \nL 0 0 \nz\n\" style=\"fill:#ffffff;\"/>\n  </g>\n  <g id=\"axes_1\">\n   <g id=\"patch_2\">\n    <path clip-path=\"url(#pb018f049c6)\" d=\"M 658.165584 305.926697 \nL 669.982844 305.926697 \nL 664.074214 314.44876 \nz\n\" style=\"fill:#778899;\"/>\n   </g>\n   <g id=\"line2d_1\">\n    <path clip-path=\"url(#pb018f049c6)\" d=\"M 185.020674 43.5608 \nL 734.977774 43.5608 \n\" style=\"fill:none;stroke:#000000;stroke-linecap:square;stroke-width:2;\"/>\n   </g>\n   <g id=\"line2d_2\">\n    <path clip-path=\"url(#pb018f049c6)\" d=\"M 185.020674 89.0118 \nL 734.977774 89.0118 \n\" style=\"fill:none;stroke:#000000;stroke-linecap:square;stroke-width:2;\"/>\n   </g>\n   <g id=\"line2d_3\">\n    <path clip-path=\"url(#pb018f049c6)\" d=\"M 185.020674 134.4628 \nL 734.977774 134.4628 \n\" style=\"fill:none;stroke:#000000;stroke-linecap:square;stroke-width:2;\"/>\n   </g>\n   <g id=\"line2d_4\">\n    <path clip-path=\"url(#pb018f049c6)\" d=\"M 185.020674 179.9138 \nL 734.977774 179.9138 \n\" style=\"fill:none;stroke:#000000;stroke-linecap:square;stroke-width:2;\"/>\n   </g>\n   <g id=\"line2d_5\">\n    <path clip-path=\"url(#pb018f049c6)\" d=\"M 185.020674 225.3648 \nL 734.977774 225.3648 \n\" style=\"fill:none;stroke:#000000;stroke-linecap:square;stroke-width:2;\"/>\n   </g>\n   <g id=\"line2d_6\">\n    <path clip-path=\"url(#pb018f049c6)\" d=\"M 185.020674 270.8158 \nL 734.977774 270.8158 \n\" style=\"fill:none;stroke:#000000;stroke-linecap:square;stroke-width:2;\"/>\n   </g>\n   <g id=\"line2d_7\">\n    <path clip-path=\"url(#pb018f049c6)\" d=\"M 185.020674 314.789642 \nL 734.977774 314.789642 \n\" style=\"fill:none;stroke:#778899;stroke-linecap:square;stroke-width:2;\"/>\n   </g>\n   <g id=\"line2d_8\">\n    <path clip-path=\"url(#pb018f049c6)\" d=\"M 185.020674 317.743957 \nL 734.977774 317.743957 \n\" style=\"fill:none;stroke:#778899;stroke-linecap:square;stroke-width:2;\"/>\n   </g>\n   <g id=\"patch_3\">\n    <path clip-path=\"url(#pb018f049c6)\" d=\"M 337.054269 66.2863 \nL 354.780159 66.2863 \nL 354.780159 20.8353 \nL 337.054269 20.8353 \nz\n\" style=\"fill:#bdbdbd;opacity:0.6;\"/>\n   </g>\n   <g id=\"patch_4\">\n    <path clip-path=\"url(#pb018f049c6)\" d=\"M 337.054269 111.7373 \nL 354.780159 111.7373 \nL 354.780159 66.2863 \nL 337.054269 66.2863 \nz\n\" style=\"fill:#bdbdbd;opacity:0.6;\"/>\n   </g>\n   <g id=\"patch_5\">\n    <path clip-path=\"url(#pb018f049c6)\" d=\"M 337.054269 157.1883 \nL 354.780159 157.1883 \nL 354.780159 111.7373 \nL 337.054269 111.7373 \nz\n\" style=\"fill:#bdbdbd;opacity:0.6;\"/>\n   </g>\n   <g id=\"patch_6\">\n    <path clip-path=\"url(#pb018f049c6)\" d=\"M 337.054269 202.6393 \nL 354.780159 202.6393 \nL 354.780159 157.1883 \nL 337.054269 157.1883 \nz\n\" style=\"fill:#bdbdbd;opacity:0.6;\"/>\n   </g>\n   <g id=\"patch_7\">\n    <path clip-path=\"url(#pb018f049c6)\" d=\"M 337.054269 248.0903 \nL 354.780159 248.0903 \nL 354.780159 202.6393 \nL 337.054269 202.6393 \nz\n\" style=\"fill:#bdbdbd;opacity:0.6;\"/>\n   </g>\n   <g id=\"patch_8\">\n    <path clip-path=\"url(#pb018f049c6)\" d=\"M 337.054269 293.5413 \nL 354.780159 293.5413 \nL 354.780159 248.0903 \nL 337.054269 248.0903 \nz\n\" style=\"fill:#bdbdbd;opacity:0.6;\"/>\n   </g>\n   <g id=\"patch_9\">\n    <path clip-path=\"url(#pb018f049c6)\" d=\"M 473.407269 66.2863 \nL 491.133159 66.2863 \nL 491.133159 20.8353 \nL 473.407269 20.8353 \nz\n\" style=\"fill:#bdbdbd;opacity:0.6;\"/>\n   </g>\n   <g id=\"patch_10\">\n    <path clip-path=\"url(#pb018f049c6)\" d=\"M 473.407269 111.7373 \nL 491.133159 111.7373 \nL 491.133159 66.2863 \nL 473.407269 66.2863 \nz\n\" style=\"fill:#bdbdbd;opacity:0.6;\"/>\n   </g>\n   <g id=\"patch_11\">\n    <path clip-path=\"url(#pb018f049c6)\" d=\"M 473.407269 157.1883 \nL 491.133159 157.1883 \nL 491.133159 111.7373 \nL 473.407269 111.7373 \nz\n\" style=\"fill:#bdbdbd;opacity:0.6;\"/>\n   </g>\n   <g id=\"patch_12\">\n    <path clip-path=\"url(#pb018f049c6)\" d=\"M 473.407269 202.6393 \nL 491.133159 202.6393 \nL 491.133159 157.1883 \nL 473.407269 157.1883 \nz\n\" style=\"fill:#bdbdbd;opacity:0.6;\"/>\n   </g>\n   <g id=\"patch_13\">\n    <path clip-path=\"url(#pb018f049c6)\" d=\"M 473.407269 248.0903 \nL 491.133159 248.0903 \nL 491.133159 202.6393 \nL 473.407269 202.6393 \nz\n\" style=\"fill:#bdbdbd;opacity:0.6;\"/>\n   </g>\n   <g id=\"patch_14\">\n    <path clip-path=\"url(#pb018f049c6)\" d=\"M 473.407269 293.5413 \nL 491.133159 293.5413 \nL 491.133159 248.0903 \nL 473.407269 248.0903 \nz\n\" style=\"fill:#bdbdbd;opacity:0.6;\"/>\n   </g>\n   <g id=\"line2d_9\">\n    <path clip-path=\"url(#pb018f049c6)\" d=\"M 527.721214 179.9138 \nL 527.721214 43.5608 \n\" style=\"fill:none;stroke:#bb8bff;stroke-linecap:square;stroke-width:2;\"/>\n   </g>\n   <g id=\"line2d_10\">\n    <path clip-path=\"url(#pb018f049c6)\" d=\"M 573.172214 225.3648 \nL 573.172214 134.4628 \n\" style=\"fill:none;stroke:#bb8bff;stroke-linecap:square;stroke-width:2;\"/>\n   </g>\n   <g id=\"line2d_11\">\n    <path clip-path=\"url(#pb018f049c6)\" d=\"M 618.623214 270.8158 \nL 618.623214 225.3648 \n\" style=\"fill:none;stroke:#6fa4ff;stroke-linecap:square;stroke-width:2;\"/>\n   </g>\n   <g id=\"line2d_12\">\n    <path clip-path=\"url(#pb018f049c6)\" d=\"M 664.074214 225.3648 \nL 664.074214 134.4628 \n\" style=\"fill:none;stroke:#bb8bff;stroke-linecap:square;stroke-width:2;\"/>\n   </g>\n   <g id=\"line2d_13\">\n    <path clip-path=\"url(#pb018f049c6)\" d=\"M 665.551372 270.8158 \nL 665.551372 305.926697 \n\" style=\"fill:none;stroke:#778899;stroke-linecap:square;stroke-width:2;\"/>\n   </g>\n   <g id=\"line2d_14\">\n    <path clip-path=\"url(#pb018f049c6)\" d=\"M 662.597057 270.8158 \nL 662.597057 305.926697 \n\" style=\"fill:none;stroke:#778899;stroke-linecap:square;stroke-width:2;\"/>\n   </g>\n   <g id=\"line2d_15\">\n    <path clip-path=\"url(#pb018f049c6)\" d=\"M 709.525214 179.9138 \nL 709.525214 43.5608 \n\" style=\"fill:none;stroke:#bb8bff;stroke-linecap:square;stroke-width:2;\"/>\n   </g>\n   <g id=\"line2d_16\">\n    <path clip-path=\"url(#pb018f049c6)\" d=\"M 300.466214 89.0118 \nL 300.466214 43.5608 \n\" style=\"fill:none;stroke:#6fa4ff;stroke-linecap:square;stroke-width:2;\"/>\n   </g>\n   <g id=\"patch_15\">\n    <path clip-path=\"url(#pb018f049c6)\" d=\"M 209.902824 149.234375 \nL 254.676604 149.234375 \nL 254.676604 28.789225 \nL 209.902824 28.789225 \nz\n\" style=\"fill:#bb8bff;stroke:#bb8bff;stroke-linejoin:miter;stroke-width:1.5;\"/>\n   </g>\n   <g id=\"patch_16\">\n    <path clip-path=\"url(#pb018f049c6)\" d=\"M 300.466214 47.992272 \nC 301.641455 47.992272 302.768718 47.525345 303.599739 46.694324 \nC 304.430759 45.863304 304.897687 44.73604 304.897687 43.5608 \nC 304.897687 42.38556 304.430759 41.258296 303.599739 40.427276 \nC 302.768718 39.596255 301.641455 39.129327 300.466214 39.129327 \nC 299.290974 39.129327 298.16371 39.596255 297.33269 40.427276 \nC 296.50167 41.258296 296.034742 42.38556 296.034742 43.5608 \nC 296.034742 44.73604 296.50167 45.863304 297.33269 46.694324 \nC 298.16371 47.525345 299.290974 47.992272 300.466214 47.992272 \nz\n\" style=\"fill:#6fa4ff;stroke:#6fa4ff;stroke-linejoin:miter;stroke-width:1.5;\"/>\n   </g>\n   <g id=\"patch_17\">\n    <path clip-path=\"url(#pb018f049c6)\" d=\"M 300.466214 93.443272 \nC 301.641455 93.443272 302.768718 92.976345 303.599739 92.145324 \nC 304.430759 91.314304 304.897687 90.18704 304.897687 89.0118 \nC 304.897687 87.83656 304.430759 86.709296 303.599739 85.878276 \nC 302.768718 85.047255 301.641455 84.580327 300.466214 84.580327 \nC 299.290974 84.580327 298.16371 85.047255 297.33269 85.878276 \nC 296.50167 86.709296 296.034742 87.83656 296.034742 89.0118 \nC 296.034742 90.18704 296.50167 91.314304 297.33269 92.145324 \nC 298.16371 92.976345 299.290974 93.443272 300.466214 93.443272 \nz\n\" style=\"fill:#6fa4ff;stroke:#6fa4ff;stroke-linejoin:miter;stroke-width:1.5;\"/>\n   </g>\n   <g id=\"patch_18\">\n    <path clip-path=\"url(#pb018f049c6)\" d=\"M 376.596639 58.332375 \nL 406.139789 58.332375 \nL 406.139789 28.789225 \nL 376.596639 28.789225 \nz\n\" style=\"fill:#6fa4ff;stroke:#6fa4ff;stroke-linejoin:miter;stroke-width:1.5;\"/>\n   </g>\n   <g id=\"patch_19\">\n    <path clip-path=\"url(#pb018f049c6)\" d=\"M 376.596639 103.783375 \nL 406.139789 103.783375 \nL 406.139789 74.240225 \nL 376.596639 74.240225 \nz\n\" style=\"fill:#6fa4ff;stroke:#6fa4ff;stroke-linejoin:miter;stroke-width:1.5;\"/>\n   </g>\n   <g id=\"patch_20\">\n    <path clip-path=\"url(#pb018f049c6)\" d=\"M 376.596639 149.234375 \nL 406.139789 149.234375 \nL 406.139789 119.691225 \nL 376.596639 119.691225 \nz\n\" style=\"fill:#6fa4ff;stroke:#6fa4ff;stroke-linejoin:miter;stroke-width:1.5;\"/>\n   </g>\n   <g id=\"patch_21\">\n    <path clip-path=\"url(#pb018f049c6)\" d=\"M 422.047639 58.332375 \nL 451.590789 58.332375 \nL 451.590789 28.789225 \nL 422.047639 28.789225 \nz\n\" style=\"fill:#05bab6;stroke:#05bab6;stroke-linejoin:miter;stroke-width:1.5;\"/>\n   </g>\n   <g id=\"patch_22\">\n    <path clip-path=\"url(#pb018f049c6)\" d=\"M 422.047639 103.783375 \nL 451.590789 103.783375 \nL 451.590789 74.240225 \nL 422.047639 74.240225 \nz\n\" style=\"fill:#05bab6;stroke:#05bab6;stroke-linejoin:miter;stroke-width:1.5;\"/>\n   </g>\n   <g id=\"patch_23\">\n    <path clip-path=\"url(#pb018f049c6)\" d=\"M 422.047639 149.234375 \nL 451.590789 149.234375 \nL 451.590789 119.691225 \nL 422.047639 119.691225 \nz\n\" style=\"fill:#05bab6;stroke:#05bab6;stroke-linejoin:miter;stroke-width:1.5;\"/>\n   </g>\n   <g id=\"patch_24\">\n    <path clip-path=\"url(#pb018f049c6)\" d=\"M 527.721214 47.992272 \nC 528.896455 47.992272 530.023718 47.525345 530.854739 46.694324 \nC 531.685759 45.863304 532.152687 44.73604 532.152687 43.5608 \nC 532.152687 42.38556 531.685759 41.258296 530.854739 40.427276 \nC 530.023718 39.596255 528.896455 39.129327 527.721214 39.129327 \nC 526.545974 39.129327 525.41871 39.596255 524.58769 40.427276 \nC 523.75667 41.258296 523.289742 42.38556 523.289742 43.5608 \nC 523.289742 44.73604 523.75667 45.863304 524.58769 46.694324 \nC 525.41871 47.525345 526.545974 47.992272 527.721214 47.992272 \nz\n\" style=\"fill:#bb8bff;stroke:#bb8bff;stroke-linejoin:miter;stroke-width:1.5;\"/>\n   </g>\n   <g id=\"patch_25\">\n    <path clip-path=\"url(#pb018f049c6)\" d=\"M 527.721214 93.443272 \nC 528.896455 93.443272 530.023718 92.976345 530.854739 92.145324 \nC 531.685759 91.314304 532.152687 90.18704 532.152687 89.0118 \nC 532.152687 87.83656 531.685759 86.709296 530.854739 85.878276 \nC 530.023718 85.047255 528.896455 84.580327 527.721214 84.580327 \nC 526.545974 84.580327 525.41871 85.047255 524.58769 85.878276 \nC 523.75667 86.709296 523.289742 87.83656 523.289742 89.0118 \nC 523.289742 90.18704 523.75667 91.314304 524.58769 92.145324 \nC 525.41871 92.976345 526.545974 93.443272 527.721214 93.443272 \nz\n\" style=\"fill:#bb8bff;stroke:#bb8bff;stroke-linejoin:miter;stroke-width:1.5;\"/>\n   </g>\n   <g id=\"patch_26\">\n    <path clip-path=\"url(#pb018f049c6)\" d=\"M 527.721214 190.253902 \nC 530.463442 190.253902 533.093723 189.164404 535.032771 187.225357 \nC 536.971818 185.286309 538.061317 182.656027 538.061317 179.9138 \nC 538.061317 177.171573 536.971818 174.541291 535.032771 172.602243 \nC 533.093723 170.663196 530.463442 169.573697 527.721214 169.573697 \nC 524.978987 169.573697 522.348705 170.663196 520.409658 172.602243 \nC 518.47061 174.541291 517.381112 177.171573 517.381112 179.9138 \nC 517.381112 182.656027 518.47061 185.286309 520.409658 187.225357 \nC 522.348705 189.164404 524.978987 190.253902 527.721214 190.253902 \nz\n\" style=\"fill:#bb8bff;stroke:#bb8bff;stroke-linejoin:miter;stroke-width:2;\"/>\n   </g>\n   <g id=\"patch_27\">\n    <path clip-path=\"url(#pb018f049c6)\" d=\"M 573.172214 138.894272 \nC 574.347455 138.894272 575.474718 138.427345 576.305739 137.596324 \nC 577.136759 136.765304 577.603687 135.63804 577.603687 134.4628 \nC 577.603687 133.28756 577.136759 132.160296 576.305739 131.329276 \nC 575.474718 130.498255 574.347455 130.031327 573.172214 130.031327 \nC 571.996974 130.031327 570.86971 130.498255 570.03869 131.329276 \nC 569.20767 132.160296 568.740742 133.28756 568.740742 134.4628 \nC 568.740742 135.63804 569.20767 136.765304 570.03869 137.596324 \nC 570.86971 138.427345 571.996974 138.894272 573.172214 138.894272 \nz\n\" style=\"fill:#bb8bff;stroke:#bb8bff;stroke-linejoin:miter;stroke-width:1.5;\"/>\n   </g>\n   <g id=\"patch_28\">\n    <path clip-path=\"url(#pb018f049c6)\" d=\"M 573.172214 184.345272 \nC 574.347455 184.345272 575.474718 183.878345 576.305739 183.047324 \nC 577.136759 182.216304 577.603687 181.08904 577.603687 179.9138 \nC 577.603687 178.73856 577.136759 177.611296 576.305739 176.780276 \nC 575.474718 175.949255 574.347455 175.482327 573.172214 175.482327 \nC 571.996974 175.482327 570.86971 175.949255 570.03869 176.780276 \nC 569.20767 177.611296 568.740742 178.73856 568.740742 179.9138 \nC 568.740742 181.08904 569.20767 182.216304 570.03869 183.047324 \nC 570.86971 183.878345 571.996974 184.345272 573.172214 184.345272 \nz\n\" style=\"fill:#bb8bff;stroke:#bb8bff;stroke-linejoin:miter;stroke-width:1.5;\"/>\n   </g>\n   <g id=\"patch_29\">\n    <path clip-path=\"url(#pb018f049c6)\" d=\"M 573.172214 235.704902 \nC 575.914442 235.704902 578.544723 234.615404 580.483771 232.676357 \nC 582.422818 230.737309 583.512317 228.107027 583.512317 225.3648 \nC 583.512317 222.622573 582.422818 219.992291 580.483771 218.053243 \nC 578.544723 216.114196 575.914442 215.024697 573.172214 215.024697 \nC 570.429987 215.024697 567.799705 216.114196 565.860658 218.053243 \nC 563.92161 219.992291 562.832112 222.622573 562.832112 225.3648 \nC 562.832112 228.107027 563.92161 230.737309 565.860658 232.676357 \nC 567.799705 234.615404 570.429987 235.704902 573.172214 235.704902 \nz\n\" style=\"fill:#bb8bff;stroke:#bb8bff;stroke-linejoin:miter;stroke-width:2;\"/>\n   </g>\n   <g id=\"patch_30\">\n    <path clip-path=\"url(#pb018f049c6)\" d=\"M 618.623214 229.796272 \nC 619.798455 229.796272 620.925718 229.329345 621.756739 228.498324 \nC 622.587759 227.667304 623.054687 226.54004 623.054687 225.3648 \nC 623.054687 224.18956 622.587759 223.062296 621.756739 222.231276 \nC 620.925718 221.400255 619.798455 220.933327 618.623214 220.933327 \nC 617.447974 220.933327 616.32071 221.400255 615.48969 222.231276 \nC 614.65867 223.062296 614.191742 224.18956 614.191742 225.3648 \nC 614.191742 226.54004 614.65867 227.667304 615.48969 228.498324 \nC 616.32071 229.329345 617.447974 229.796272 618.623214 229.796272 \nz\n\" style=\"fill:#6fa4ff;stroke:#6fa4ff;stroke-linejoin:miter;stroke-width:1.5;\"/>\n   </g>\n   <g id=\"patch_31\">\n    <path clip-path=\"url(#pb018f049c6)\" d=\"M 618.623214 281.155902 \nC 621.365442 281.155902 623.995723 280.066404 625.934771 278.127357 \nC 627.873818 276.188309 628.963317 273.558027 628.963317 270.8158 \nC 628.963317 268.073573 627.873818 265.443291 625.934771 263.504243 \nC 623.995723 261.565196 621.365442 260.475697 618.623214 260.475697 \nC 615.880987 260.475697 613.250705 261.565196 611.311658 263.504243 \nC 609.37261 265.443291 608.283112 268.073573 608.283112 270.8158 \nC 608.283112 273.558027 609.37261 276.188309 611.311658 278.127357 \nC 613.250705 280.066404 615.880987 281.155902 618.623214 281.155902 \nz\n\" style=\"fill:#6fa4ff;stroke:#6fa4ff;stroke-linejoin:miter;stroke-width:2;\"/>\n   </g>\n   <g id=\"patch_32\">\n    <path clip-path=\"url(#pb018f049c6)\" d=\"M 664.074214 138.894272 \nC 665.249455 138.894272 666.376718 138.427345 667.207739 137.596324 \nC 668.038759 136.765304 668.505687 135.63804 668.505687 134.4628 \nC 668.505687 133.28756 668.038759 132.160296 667.207739 131.329276 \nC 666.376718 130.498255 665.249455 130.031327 664.074214 130.031327 \nC 662.898974 130.031327 661.77171 130.498255 660.94069 131.329276 \nC 660.10967 132.160296 659.642742 133.28756 659.642742 134.4628 \nC 659.642742 135.63804 660.10967 136.765304 660.94069 137.596324 \nC 661.77171 138.427345 662.898974 138.894272 664.074214 138.894272 \nz\n\" style=\"fill:#bb8bff;stroke:#bb8bff;stroke-linejoin:miter;stroke-width:1.5;\"/>\n   </g>\n   <g id=\"patch_33\">\n    <path clip-path=\"url(#pb018f049c6)\" d=\"M 664.074214 184.345272 \nC 665.249455 184.345272 666.376718 183.878345 667.207739 183.047324 \nC 668.038759 182.216304 668.505687 181.08904 668.505687 179.9138 \nC 668.505687 178.73856 668.038759 177.611296 667.207739 176.780276 \nC 666.376718 175.949255 665.249455 175.482327 664.074214 175.482327 \nC 662.898974 175.482327 661.77171 175.949255 660.94069 176.780276 \nC 660.10967 177.611296 659.642742 178.73856 659.642742 179.9138 \nC 659.642742 181.08904 660.10967 182.216304 660.94069 183.047324 \nC 661.77171 183.878345 662.898974 184.345272 664.074214 184.345272 \nz\n\" style=\"fill:#bb8bff;stroke:#bb8bff;stroke-linejoin:miter;stroke-width:1.5;\"/>\n   </g>\n   <g id=\"patch_34\">\n    <path clip-path=\"url(#pb018f049c6)\" d=\"M 664.074214 235.704902 \nC 666.816442 235.704902 669.446723 234.615404 671.385771 232.676357 \nC 673.324818 230.737309 674.414317 228.107027 674.414317 225.3648 \nC 674.414317 222.622573 673.324818 219.992291 671.385771 218.053243 \nC 669.446723 216.114196 666.816442 215.024697 664.074214 215.024697 \nC 661.331987 215.024697 658.701705 216.114196 656.762658 218.053243 \nC 654.82361 219.992291 653.734112 222.622573 653.734112 225.3648 \nC 653.734112 228.107027 654.82361 230.737309 656.762658 232.676357 \nC 658.701705 234.615404 661.331987 235.704902 664.074214 235.704902 \nz\n\" style=\"fill:#bb8bff;stroke:#bb8bff;stroke-linejoin:miter;stroke-width:2;\"/>\n   </g>\n   <g id=\"patch_35\">\n    <path clip-path=\"url(#pb018f049c6)\" d=\"M 649.302639 285.587375 \nL 678.845789 285.587375 \nL 678.845789 256.044225 \nL 649.302639 256.044225 \nz\n\" style=\"stroke:#000000;stroke-linejoin:miter;stroke-width:1.5;\"/>\n   </g>\n   <g id=\"patch_36\">\n    <path clip-path=\"url(#pb018f049c6)\" d=\"M 674.414317 275.247272 \nC 674.414317 272.505959 673.324173 269.874118 671.385771 267.935716 \nC 669.447369 265.997314 666.815528 264.90717 664.074214 264.90717 \nC 661.3329 264.90717 658.701059 265.997314 656.762658 267.935716 \nC 654.824256 269.874118 653.734112 272.505959 653.734112 275.247272 \n\" style=\"fill:none;stroke:#ffffff;stroke-linejoin:miter;stroke-width:2;\"/>\n   </g>\n   <g id=\"patch_37\">\n    <path clip-path=\"url(#pb018f049c6)\" d=\"M 709.525214 47.992272 \nC 710.700455 47.992272 711.827718 47.525345 712.658739 46.694324 \nC 713.489759 45.863304 713.956687 44.73604 713.956687 43.5608 \nC 713.956687 42.38556 713.489759 41.258296 712.658739 40.427276 \nC 711.827718 39.596255 710.700455 39.129327 709.525214 39.129327 \nC 708.349974 39.129327 707.22271 39.596255 706.39169 40.427276 \nC 705.56067 41.258296 705.093742 42.38556 705.093742 43.5608 \nC 705.093742 44.73604 705.56067 45.863304 706.39169 46.694324 \nC 707.22271 47.525345 708.349974 47.992272 709.525214 47.992272 \nz\n\" style=\"fill:#bb8bff;stroke:#bb8bff;stroke-linejoin:miter;stroke-width:1.5;\"/>\n   </g>\n   <g id=\"patch_38\">\n    <path clip-path=\"url(#pb018f049c6)\" d=\"M 709.525214 93.443272 \nC 710.700455 93.443272 711.827718 92.976345 712.658739 92.145324 \nC 713.489759 91.314304 713.956687 90.18704 713.956687 89.0118 \nC 713.956687 87.83656 713.489759 86.709296 712.658739 85.878276 \nC 711.827718 85.047255 710.700455 84.580327 709.525214 84.580327 \nC 708.349974 84.580327 707.22271 85.047255 706.39169 85.878276 \nC 705.56067 86.709296 705.093742 87.83656 705.093742 89.0118 \nC 705.093742 90.18704 705.56067 91.314304 706.39169 92.145324 \nC 707.22271 92.976345 708.349974 93.443272 709.525214 93.443272 \nz\n\" style=\"fill:#bb8bff;stroke:#bb8bff;stroke-linejoin:miter;stroke-width:1.5;\"/>\n   </g>\n   <g id=\"patch_39\">\n    <path clip-path=\"url(#pb018f049c6)\" d=\"M 709.525214 190.253902 \nC 712.267442 190.253902 714.897723 189.164404 716.836771 187.225357 \nC 718.775818 185.286309 719.865317 182.656027 719.865317 179.9138 \nC 719.865317 177.171573 718.775818 174.541291 716.836771 172.602243 \nC 714.897723 170.663196 712.267442 169.573697 709.525214 169.573697 \nC 706.782987 169.573697 704.152705 170.663196 702.213658 172.602243 \nC 700.27461 174.541291 699.185112 177.171573 699.185112 179.9138 \nC 699.185112 182.656027 700.27461 185.286309 702.213658 187.225357 \nC 704.152705 189.164404 706.782987 190.253902 709.525214 190.253902 \nz\n\" style=\"fill:#bb8bff;stroke:#bb8bff;stroke-linejoin:miter;stroke-width:2;\"/>\n   </g>\n   <g id=\"line2d_17\">\n    <path clip-path=\"url(#pb018f049c6)\" d=\"M 664.074214 275.247272 \nL 674.414317 264.90717 \n\" style=\"fill:none;stroke:#ffffff;stroke-linecap:square;stroke-width:2;\"/>\n   </g>\n   <g id=\"line2d_18\">\n    <path clip-path=\"url(#pb018f049c6)\" d=\"M 345.917214 20.8353 \nL 345.917214 66.2863 \n\" style=\"fill:none;stroke:#000000;stroke-dasharray:3.7,1.6;stroke-dashoffset:0;\"/>\n   </g>\n   <g id=\"line2d_19\">\n    <path clip-path=\"url(#pb018f049c6)\" d=\"M 345.917214 66.2863 \nL 345.917214 111.7373 \n\" style=\"fill:none;stroke:#000000;stroke-dasharray:3.7,1.6;stroke-dashoffset:0;\"/>\n   </g>\n   <g id=\"line2d_20\">\n    <path clip-path=\"url(#pb018f049c6)\" d=\"M 345.917214 111.7373 \nL 345.917214 157.1883 \n\" style=\"fill:none;stroke:#000000;stroke-dasharray:3.7,1.6;stroke-dashoffset:0;\"/>\n   </g>\n   <g id=\"line2d_21\">\n    <path clip-path=\"url(#pb018f049c6)\" d=\"M 345.917214 157.1883 \nL 345.917214 202.6393 \n\" style=\"fill:none;stroke:#000000;stroke-dasharray:3.7,1.6;stroke-dashoffset:0;\"/>\n   </g>\n   <g id=\"line2d_22\">\n    <path clip-path=\"url(#pb018f049c6)\" d=\"M 345.917214 202.6393 \nL 345.917214 248.0903 \n\" style=\"fill:none;stroke:#000000;stroke-dasharray:3.7,1.6;stroke-dashoffset:0;\"/>\n   </g>\n   <g id=\"line2d_23\">\n    <path clip-path=\"url(#pb018f049c6)\" d=\"M 345.917214 248.0903 \nL 345.917214 293.5413 \n\" style=\"fill:none;stroke:#000000;stroke-dasharray:3.7,1.6;stroke-dashoffset:0;\"/>\n   </g>\n   <g id=\"line2d_24\">\n    <path clip-path=\"url(#pb018f049c6)\" d=\"M 482.270214 20.8353 \nL 482.270214 66.2863 \n\" style=\"fill:none;stroke:#000000;stroke-dasharray:3.7,1.6;stroke-dashoffset:0;\"/>\n   </g>\n   <g id=\"line2d_25\">\n    <path clip-path=\"url(#pb018f049c6)\" d=\"M 482.270214 66.2863 \nL 482.270214 111.7373 \n\" style=\"fill:none;stroke:#000000;stroke-dasharray:3.7,1.6;stroke-dashoffset:0;\"/>\n   </g>\n   <g id=\"line2d_26\">\n    <path clip-path=\"url(#pb018f049c6)\" d=\"M 482.270214 111.7373 \nL 482.270214 157.1883 \n\" style=\"fill:none;stroke:#000000;stroke-dasharray:3.7,1.6;stroke-dashoffset:0;\"/>\n   </g>\n   <g id=\"line2d_27\">\n    <path clip-path=\"url(#pb018f049c6)\" d=\"M 482.270214 157.1883 \nL 482.270214 202.6393 \n\" style=\"fill:none;stroke:#000000;stroke-dasharray:3.7,1.6;stroke-dashoffset:0;\"/>\n   </g>\n   <g id=\"line2d_28\">\n    <path clip-path=\"url(#pb018f049c6)\" d=\"M 482.270214 202.6393 \nL 482.270214 248.0903 \n\" style=\"fill:none;stroke:#000000;stroke-dasharray:3.7,1.6;stroke-dashoffset:0;\"/>\n   </g>\n   <g id=\"line2d_29\">\n    <path clip-path=\"url(#pb018f049c6)\" d=\"M 482.270214 248.0903 \nL 482.270214 293.5413 \n\" style=\"fill:none;stroke:#000000;stroke-dasharray:3.7,1.6;stroke-dashoffset:0;\"/>\n   </g>\n   <g id=\"line2d_30\">\n    <path clip-path=\"url(#pb018f049c6)\" d=\"M 527.721214 185.82243 \nL 527.721214 174.00517 \n\" style=\"fill:none;stroke:#ffffff;stroke-linecap:square;stroke-width:2;\"/>\n   </g>\n   <g id=\"line2d_31\">\n    <path clip-path=\"url(#pb018f049c6)\" d=\"M 521.812584 179.9138 \nL 533.629844 179.9138 \n\" style=\"fill:none;stroke:#ffffff;stroke-linecap:square;stroke-width:2;\"/>\n   </g>\n   <g id=\"line2d_32\">\n    <path clip-path=\"url(#pb018f049c6)\" d=\"M 573.172214 231.27343 \nL 573.172214 219.45617 \n\" style=\"fill:none;stroke:#ffffff;stroke-linecap:square;stroke-width:2;\"/>\n   </g>\n   <g id=\"line2d_33\">\n    <path clip-path=\"url(#pb018f049c6)\" d=\"M 567.263584 225.3648 \nL 579.080844 225.3648 \n\" style=\"fill:none;stroke:#ffffff;stroke-linecap:square;stroke-width:2;\"/>\n   </g>\n   <g id=\"line2d_34\">\n    <path clip-path=\"url(#pb018f049c6)\" d=\"M 618.623214 276.72443 \nL 618.623214 264.90717 \n\" style=\"fill:none;stroke:#ffffff;stroke-linecap:square;stroke-width:2;\"/>\n   </g>\n   <g id=\"line2d_35\">\n    <path clip-path=\"url(#pb018f049c6)\" d=\"M 612.714584 270.8158 \nL 624.531844 270.8158 \n\" style=\"fill:none;stroke:#ffffff;stroke-linecap:square;stroke-width:2;\"/>\n   </g>\n   <g id=\"line2d_36\">\n    <path clip-path=\"url(#pb018f049c6)\" d=\"M 664.074214 231.27343 \nL 664.074214 219.45617 \n\" style=\"fill:none;stroke:#ffffff;stroke-linecap:square;stroke-width:2;\"/>\n   </g>\n   <g id=\"line2d_37\">\n    <path clip-path=\"url(#pb018f049c6)\" d=\"M 658.165584 225.3648 \nL 669.982844 225.3648 \n\" style=\"fill:none;stroke:#ffffff;stroke-linecap:square;stroke-width:2;\"/>\n   </g>\n   <g id=\"line2d_38\">\n    <path clip-path=\"url(#pb018f049c6)\" d=\"M 709.525214 185.82243 \nL 709.525214 174.00517 \n\" style=\"fill:none;stroke:#ffffff;stroke-linecap:square;stroke-width:2;\"/>\n   </g>\n   <g id=\"line2d_39\">\n    <path clip-path=\"url(#pb018f049c6)\" d=\"M 703.616584 179.9138 \nL 715.433844 179.9138 \n\" style=\"fill:none;stroke:#ffffff;stroke-linecap:square;stroke-width:2;\"/>\n   </g>\n   <g id=\"text_1\">\n    <g clip-path=\"url(#pb018f049c6)\">\n     <!-- 0 -->\n     <g transform=\"translate(213.084394 47.147987)scale(0.13 -0.13)\">\n      <defs>\n       <path d=\"M 2034 4250 \nQ 1547 4250 1301 3770 \nQ 1056 3291 1056 2328 \nQ 1056 1369 1301 889 \nQ 1547 409 2034 409 \nQ 2525 409 2770 889 \nQ 3016 1369 3016 2328 \nQ 3016 3291 2770 3770 \nQ 2525 4250 2034 4250 \nz\nM 2034 4750 \nQ 2819 4750 3233 4129 \nQ 3647 3509 3647 2328 \nQ 3647 1150 3233 529 \nQ 2819 -91 2034 -91 \nQ 1250 -91 836 529 \nQ 422 1150 422 2328 \nQ 422 3509 836 4129 \nQ 1250 4750 2034 4750 \nz\n\" id=\"DejaVuSans-30\" transform=\"scale(0.015625)\"/>\n      </defs>\n      <use xlink:href=\"#DejaVuSans-30\"/>\n     </g>\n    </g>\n   </g>\n   <g id=\"text_2\">\n    <g clip-path=\"url(#pb018f049c6)\">\n     <!-- 1 -->\n     <g transform=\"translate(213.084394 92.598987)scale(0.13 -0.13)\">\n      <defs>\n       <path d=\"M 794 531 \nL 1825 531 \nL 1825 4091 \nL 703 3866 \nL 703 4441 \nL 1819 4666 \nL 2450 4666 \nL 2450 531 \nL 3481 531 \nL 3481 0 \nL 794 0 \nL 794 531 \nz\n\" id=\"DejaVuSans-31\" transform=\"scale(0.015625)\"/>\n      </defs>\n      <use xlink:href=\"#DejaVuSans-31\"/>\n     </g>\n    </g>\n   </g>\n   <g id=\"text_3\">\n    <g clip-path=\"url(#pb018f049c6)\">\n     <!-- 2 -->\n     <g transform=\"translate(213.084394 138.049987)scale(0.13 -0.13)\">\n      <defs>\n       <path d=\"M 1228 531 \nL 3431 531 \nL 3431 0 \nL 469 0 \nL 469 531 \nQ 828 903 1448 1529 \nQ 2069 2156 2228 2338 \nQ 2531 2678 2651 2914 \nQ 2772 3150 2772 3378 \nQ 2772 3750 2511 3984 \nQ 2250 4219 1831 4219 \nQ 1534 4219 1204 4116 \nQ 875 4013 500 3803 \nL 500 4441 \nQ 881 4594 1212 4672 \nQ 1544 4750 1819 4750 \nQ 2544 4750 2975 4387 \nQ 3406 4025 3406 3419 \nQ 3406 3131 3298 2873 \nQ 3191 2616 2906 2266 \nQ 2828 2175 2409 1742 \nQ 1991 1309 1228 531 \nz\n\" id=\"DejaVuSans-32\" transform=\"scale(0.015625)\"/>\n      </defs>\n      <use xlink:href=\"#DejaVuSans-32\"/>\n     </g>\n    </g>\n   </g>\n   <g id=\"text_4\">\n    <g clip-path=\"url(#pb018f049c6)\">\n     <!-- Input -->\n     <g transform=\"translate(220.458387 92.598987)scale(0.13 -0.13)\">\n      <defs>\n       <path d=\"M 628 4666 \nL 1259 4666 \nL 1259 0 \nL 628 0 \nL 628 4666 \nz\n\" id=\"DejaVuSans-49\" transform=\"scale(0.015625)\"/>\n       <path d=\"M 3513 2113 \nL 3513 0 \nL 2938 0 \nL 2938 2094 \nQ 2938 2591 2744 2837 \nQ 2550 3084 2163 3084 \nQ 1697 3084 1428 2787 \nQ 1159 2491 1159 1978 \nL 1159 0 \nL 581 0 \nL 581 3500 \nL 1159 3500 \nL 1159 2956 \nQ 1366 3272 1645 3428 \nQ 1925 3584 2291 3584 \nQ 2894 3584 3203 3211 \nQ 3513 2838 3513 2113 \nz\n\" id=\"DejaVuSans-6e\" transform=\"scale(0.015625)\"/>\n       <path d=\"M 1159 525 \nL 1159 -1331 \nL 581 -1331 \nL 581 3500 \nL 1159 3500 \nL 1159 2969 \nQ 1341 3281 1617 3432 \nQ 1894 3584 2278 3584 \nQ 2916 3584 3314 3078 \nQ 3713 2572 3713 1747 \nQ 3713 922 3314 415 \nQ 2916 -91 2278 -91 \nQ 1894 -91 1617 61 \nQ 1341 213 1159 525 \nz\nM 3116 1747 \nQ 3116 2381 2855 2742 \nQ 2594 3103 2138 3103 \nQ 1681 3103 1420 2742 \nQ 1159 2381 1159 1747 \nQ 1159 1113 1420 752 \nQ 1681 391 2138 391 \nQ 2594 391 2855 752 \nQ 3116 1113 3116 1747 \nz\n\" id=\"DejaVuSans-70\" transform=\"scale(0.015625)\"/>\n       <path d=\"M 544 1381 \nL 544 3500 \nL 1119 3500 \nL 1119 1403 \nQ 1119 906 1312 657 \nQ 1506 409 1894 409 \nQ 2359 409 2629 706 \nQ 2900 1003 2900 1516 \nL 2900 3500 \nL 3475 3500 \nL 3475 0 \nL 2900 0 \nL 2900 538 \nQ 2691 219 2414 64 \nQ 2138 -91 1772 -91 \nQ 1169 -91 856 284 \nQ 544 659 544 1381 \nz\nM 1991 3584 \nL 1991 3584 \nz\n\" id=\"DejaVuSans-75\" transform=\"scale(0.015625)\"/>\n       <path d=\"M 1172 4494 \nL 1172 3500 \nL 2356 3500 \nL 2356 3053 \nL 1172 3053 \nL 1172 1153 \nQ 1172 725 1289 603 \nQ 1406 481 1766 481 \nL 2356 481 \nL 2356 0 \nL 1766 0 \nQ 1100 0 847 248 \nQ 594 497 594 1153 \nL 594 3053 \nL 172 3053 \nL 172 3500 \nL 594 3500 \nL 594 4494 \nL 1172 4494 \nz\n\" id=\"DejaVuSans-74\" transform=\"scale(0.015625)\"/>\n      </defs>\n      <use xlink:href=\"#DejaVuSans-49\"/>\n      <use x=\"29.492188\" xlink:href=\"#DejaVuSans-6e\"/>\n      <use x=\"92.871094\" xlink:href=\"#DejaVuSans-70\"/>\n      <use x=\"156.347656\" xlink:href=\"#DejaVuSans-75\"/>\n      <use x=\"219.726562\" xlink:href=\"#DejaVuSans-74\"/>\n     </g>\n    </g>\n   </g>\n   <g id=\"text_5\">\n    <g clip-path=\"url(#pb018f049c6)\">\n     <!-- H -->\n     <g transform=\"translate(386.480011 47.147987)scale(0.13 -0.13)\">\n      <defs>\n       <path d=\"M 628 4666 \nL 1259 4666 \nL 1259 2753 \nL 3553 2753 \nL 3553 4666 \nL 4184 4666 \nL 4184 0 \nL 3553 0 \nL 3553 2222 \nL 1259 2222 \nL 1259 0 \nL 628 0 \nL 628 4666 \nz\n\" id=\"DejaVuSans-48\" transform=\"scale(0.015625)\"/>\n      </defs>\n      <use xlink:href=\"#DejaVuSans-48\"/>\n     </g>\n    </g>\n   </g>\n   <g id=\"text_6\">\n    <g clip-path=\"url(#pb018f049c6)\">\n     <!-- H -->\n     <g transform=\"translate(386.480011 92.598987)scale(0.13 -0.13)\">\n      <use xlink:href=\"#DejaVuSans-48\"/>\n     </g>\n    </g>\n   </g>\n   <g id=\"text_7\">\n    <g clip-path=\"url(#pb018f049c6)\">\n     <!-- H -->\n     <g transform=\"translate(386.480011 138.049987)scale(0.13 -0.13)\">\n      <use xlink:href=\"#DejaVuSans-48\"/>\n     </g>\n    </g>\n   </g>\n   <g id=\"text_8\">\n    <g clip-path=\"url(#pb018f049c6)\">\n     <!-- X -->\n     <g transform=\"translate(432.366714 47.147987)scale(0.13 -0.13)\">\n      <defs>\n       <path d=\"M 403 4666 \nL 1081 4666 \nL 2241 2931 \nL 3406 4666 \nL 4084 4666 \nL 2584 2425 \nL 4184 0 \nL 3506 0 \nL 2194 1984 \nL 872 0 \nL 191 0 \nL 1856 2491 \nL 403 4666 \nz\n\" id=\"DejaVuSans-58\" transform=\"scale(0.015625)\"/>\n      </defs>\n      <use xlink:href=\"#DejaVuSans-58\"/>\n     </g>\n    </g>\n   </g>\n   <g id=\"text_9\">\n    <g clip-path=\"url(#pb018f049c6)\">\n     <!-- X -->\n     <g transform=\"translate(432.366714 92.598987)scale(0.13 -0.13)\">\n      <use xlink:href=\"#DejaVuSans-58\"/>\n     </g>\n    </g>\n   </g>\n   <g id=\"text_10\">\n    <g clip-path=\"url(#pb018f049c6)\">\n     <!-- X -->\n     <g transform=\"translate(432.366714 138.049987)scale(0.13 -0.13)\">\n      <use xlink:href=\"#DejaVuSans-58\"/>\n     </g>\n    </g>\n   </g>\n   <g id=\"text_11\">\n    <g clip-path=\"url(#pb018f049c6)\">\n     <!-- 0 -->\n     <g transform=\"translate(675.436964 309.558825)scale(0.104 -0.104)\">\n      <use xlink:href=\"#DejaVuSans-30\"/>\n     </g>\n    </g>\n   </g>\n   <g id=\"text_12\">\n    <g clip-path=\"url(#pb018f049c6)\">\n     <!-- ${u\\_layer0\\_qbit}\\_{0}$ -->\n     <g transform=\"translate(48.205474 47.7858)scale(0.1625 -0.1625)\">\n      <defs>\n       <path d=\"M 428 1388 \nL 838 3500 \nL 1416 3500 \nL 1006 1409 \nQ 975 1256 961 1147 \nQ 947 1038 947 966 \nQ 947 700 1109 554 \nQ 1272 409 1569 409 \nQ 2031 409 2368 721 \nQ 2706 1034 2809 1563 \nL 3194 3500 \nL 3769 3500 \nL 3091 0 \nL 2516 0 \nL 2631 550 \nQ 2388 244 2052 76 \nQ 1716 -91 1338 -91 \nQ 878 -91 622 161 \nQ 366 413 366 863 \nQ 366 956 381 1097 \nQ 397 1238 428 1388 \nz\n\" id=\"DejaVuSans-Oblique-75\" transform=\"scale(0.015625)\"/>\n       <path d=\"M 3263 -1063 \nL 3263 -1509 \nL -63 -1509 \nL -63 -1063 \nL 3263 -1063 \nz\n\" id=\"DejaVuSans-5f\" transform=\"scale(0.015625)\"/>\n       <path d=\"M 1172 4863 \nL 1747 4863 \nL 800 0 \nL 225 0 \nL 1172 4863 \nz\n\" id=\"DejaVuSans-Oblique-6c\" transform=\"scale(0.015625)\"/>\n       <path d=\"M 3438 1997 \nL 3047 0 \nL 2472 0 \nL 2578 531 \nQ 2325 219 2001 64 \nQ 1678 -91 1281 -91 \nQ 834 -91 548 182 \nQ 263 456 263 884 \nQ 263 1497 752 1853 \nQ 1241 2209 2100 2209 \nL 2900 2209 \nL 2931 2363 \nQ 2938 2388 2941 2417 \nQ 2944 2447 2944 2509 \nQ 2944 2788 2717 2942 \nQ 2491 3097 2081 3097 \nQ 1800 3097 1504 3025 \nQ 1209 2953 897 2809 \nL 997 3341 \nQ 1322 3463 1633 3523 \nQ 1944 3584 2234 3584 \nQ 2853 3584 3176 3315 \nQ 3500 3047 3500 2534 \nQ 3500 2431 3484 2292 \nQ 3469 2153 3438 1997 \nz\nM 2816 1759 \nL 2241 1759 \nQ 1534 1759 1195 1570 \nQ 856 1381 856 984 \nQ 856 709 1029 553 \nQ 1203 397 1509 397 \nQ 1978 397 2328 733 \nQ 2678 1069 2791 1631 \nL 2816 1759 \nz\n\" id=\"DejaVuSans-Oblique-61\" transform=\"scale(0.015625)\"/>\n       <path d=\"M 1588 -325 \nQ 1188 -997 936 -1164 \nQ 684 -1331 294 -1331 \nL -159 -1331 \nL -63 -850 \nL 269 -850 \nQ 509 -850 678 -719 \nQ 847 -588 1056 -206 \nL 1234 128 \nL 459 3500 \nL 1069 3500 \nL 1650 819 \nL 3256 3500 \nL 3859 3500 \nL 1588 -325 \nz\n\" id=\"DejaVuSans-Oblique-79\" transform=\"scale(0.015625)\"/>\n       <path d=\"M 3078 2063 \nQ 3088 2113 3092 2166 \nQ 3097 2219 3097 2272 \nQ 3097 2653 2873 2875 \nQ 2650 3097 2266 3097 \nQ 1838 3097 1509 2826 \nQ 1181 2556 1013 2059 \nL 3078 2063 \nz\nM 3578 1613 \nL 903 1613 \nQ 884 1494 878 1425 \nQ 872 1356 872 1306 \nQ 872 872 1139 634 \nQ 1406 397 1894 397 \nQ 2269 397 2603 481 \nQ 2938 566 3225 728 \nL 3116 159 \nQ 2806 34 2476 -28 \nQ 2147 -91 1806 -91 \nQ 1078 -91 686 257 \nQ 294 606 294 1247 \nQ 294 1794 489 2264 \nQ 684 2734 1063 3103 \nQ 1306 3334 1642 3459 \nQ 1978 3584 2356 3584 \nQ 2950 3584 3301 3228 \nQ 3653 2872 3653 2272 \nQ 3653 2128 3634 1964 \nQ 3616 1800 3578 1613 \nz\n\" id=\"DejaVuSans-Oblique-65\" transform=\"scale(0.015625)\"/>\n       <path d=\"M 2853 2969 \nQ 2766 3016 2653 3041 \nQ 2541 3066 2413 3066 \nQ 1953 3066 1609 2717 \nQ 1266 2369 1153 1784 \nL 800 0 \nL 225 0 \nL 909 3500 \nL 1484 3500 \nL 1375 2956 \nQ 1603 3259 1920 3421 \nQ 2238 3584 2597 3584 \nQ 2691 3584 2781 3573 \nQ 2872 3563 2963 3538 \nL 2853 2969 \nz\n\" id=\"DejaVuSans-Oblique-72\" transform=\"scale(0.015625)\"/>\n       <path d=\"M 2669 525 \nQ 2438 222 2123 65 \nQ 1809 -91 1428 -91 \nQ 897 -91 595 267 \nQ 294 625 294 1253 \nQ 294 1759 480 2231 \nQ 666 2703 1013 3078 \nQ 1238 3322 1530 3453 \nQ 1822 3584 2144 3584 \nQ 2531 3584 2781 3431 \nQ 3031 3278 3144 2969 \nL 3244 3494 \nL 3822 3494 \nL 2888 -1319 \nL 2309 -1319 \nL 2669 525 \nz\nM 891 1338 \nQ 891 875 1084 633 \nQ 1278 391 1644 391 \nQ 2188 391 2572 911 \nQ 2956 1431 2956 2175 \nQ 2956 2625 2757 2864 \nQ 2559 3103 2188 3103 \nQ 1916 3103 1684 2976 \nQ 1453 2850 1281 2606 \nQ 1100 2350 995 2006 \nQ 891 1663 891 1338 \nz\n\" id=\"DejaVuSans-Oblique-71\" transform=\"scale(0.015625)\"/>\n       <path d=\"M 3169 2138 \nQ 3169 2591 2961 2847 \nQ 2753 3103 2388 3103 \nQ 2122 3103 1889 2973 \nQ 1656 2844 1484 2597 \nQ 1303 2338 1198 1995 \nQ 1094 1653 1094 1313 \nQ 1094 881 1298 636 \nQ 1503 391 1863 391 \nQ 2134 391 2365 517 \nQ 2597 644 2772 891 \nQ 2950 1147 3059 1487 \nQ 3169 1828 3169 2138 \nz\nM 1381 2969 \nQ 1594 3256 1914 3420 \nQ 2234 3584 2584 3584 \nQ 3122 3584 3439 3221 \nQ 3756 2859 3756 2241 \nQ 3756 1734 3570 1259 \nQ 3384 784 3041 416 \nQ 2816 172 2522 40 \nQ 2228 -91 1906 -91 \nQ 1566 -91 1316 65 \nQ 1066 222 909 531 \nL 806 0 \nL 231 0 \nL 1178 4863 \nL 1753 4863 \nL 1381 2969 \nz\n\" id=\"DejaVuSans-Oblique-62\" transform=\"scale(0.015625)\"/>\n       <path d=\"M 1172 4863 \nL 1747 4863 \nL 1606 4134 \nL 1031 4134 \nL 1172 4863 \nz\nM 909 3500 \nL 1484 3500 \nL 800 0 \nL 225 0 \nL 909 3500 \nz\n\" id=\"DejaVuSans-Oblique-69\" transform=\"scale(0.015625)\"/>\n       <path d=\"M 2706 3500 \nL 2619 3053 \nL 1472 3053 \nL 1100 1153 \nQ 1081 1047 1072 975 \nQ 1063 903 1063 863 \nQ 1063 663 1183 572 \nQ 1303 481 1569 481 \nL 2150 481 \nL 2053 0 \nL 1503 0 \nQ 991 0 739 200 \nQ 488 400 488 806 \nQ 488 878 497 964 \nQ 506 1050 525 1153 \nL 897 3053 \nL 409 3053 \nL 500 3500 \nL 978 3500 \nL 1172 4494 \nL 1747 4494 \nL 1556 3500 \nL 2706 3500 \nz\n\" id=\"DejaVuSans-Oblique-74\" transform=\"scale(0.015625)\"/>\n      </defs>\n      <use transform=\"translate(0 0.015625)\" xlink:href=\"#DejaVuSans-Oblique-75\"/>\n      <use transform=\"translate(63.378906 0.015625)\" xlink:href=\"#DejaVuSans-5f\"/>\n      <use transform=\"translate(113.378906 0.015625)\" xlink:href=\"#DejaVuSans-Oblique-6c\"/>\n      <use transform=\"translate(141.162109 0.015625)\" xlink:href=\"#DejaVuSans-Oblique-61\"/>\n      <use transform=\"translate(202.441406 0.015625)\" xlink:href=\"#DejaVuSans-Oblique-79\"/>\n      <use transform=\"translate(261.621094 0.015625)\" xlink:href=\"#DejaVuSans-Oblique-65\"/>\n      <use transform=\"translate(323.144531 0.015625)\" xlink:href=\"#DejaVuSans-Oblique-72\"/>\n      <use transform=\"translate(364.257812 0.015625)\" xlink:href=\"#DejaVuSans-30\"/>\n      <use transform=\"translate(427.880859 0.015625)\" xlink:href=\"#DejaVuSans-5f\"/>\n      <use transform=\"translate(477.880859 0.015625)\" xlink:href=\"#DejaVuSans-Oblique-71\"/>\n      <use transform=\"translate(541.357422 0.015625)\" xlink:href=\"#DejaVuSans-Oblique-62\"/>\n      <use transform=\"translate(604.833984 0.015625)\" xlink:href=\"#DejaVuSans-Oblique-69\"/>\n      <use transform=\"translate(632.617188 0.015625)\" xlink:href=\"#DejaVuSans-Oblique-74\"/>\n      <use transform=\"translate(671.826172 0.015625)\" xlink:href=\"#DejaVuSans-5f\"/>\n      <use transform=\"translate(721.826172 0.015625)\" xlink:href=\"#DejaVuSans-30\"/>\n     </g>\n    </g>\n   </g>\n   <g id=\"text_13\">\n    <g clip-path=\"url(#pb018f049c6)\">\n     <!-- ${u\\_layer0\\_qbit}\\_{1}$ -->\n     <g transform=\"translate(48.205474 93.2368)scale(0.1625 -0.1625)\">\n      <use transform=\"translate(0 0.015625)\" xlink:href=\"#DejaVuSans-Oblique-75\"/>\n      <use transform=\"translate(63.378906 0.015625)\" xlink:href=\"#DejaVuSans-5f\"/>\n      <use transform=\"translate(113.378906 0.015625)\" xlink:href=\"#DejaVuSans-Oblique-6c\"/>\n      <use transform=\"translate(141.162109 0.015625)\" xlink:href=\"#DejaVuSans-Oblique-61\"/>\n      <use transform=\"translate(202.441406 0.015625)\" xlink:href=\"#DejaVuSans-Oblique-79\"/>\n      <use transform=\"translate(261.621094 0.015625)\" xlink:href=\"#DejaVuSans-Oblique-65\"/>\n      <use transform=\"translate(323.144531 0.015625)\" xlink:href=\"#DejaVuSans-Oblique-72\"/>\n      <use transform=\"translate(364.257812 0.015625)\" xlink:href=\"#DejaVuSans-30\"/>\n      <use transform=\"translate(427.880859 0.015625)\" xlink:href=\"#DejaVuSans-5f\"/>\n      <use transform=\"translate(477.880859 0.015625)\" xlink:href=\"#DejaVuSans-Oblique-71\"/>\n      <use transform=\"translate(541.357422 0.015625)\" xlink:href=\"#DejaVuSans-Oblique-62\"/>\n      <use transform=\"translate(604.833984 0.015625)\" xlink:href=\"#DejaVuSans-Oblique-69\"/>\n      <use transform=\"translate(632.617188 0.015625)\" xlink:href=\"#DejaVuSans-Oblique-74\"/>\n      <use transform=\"translate(671.826172 0.015625)\" xlink:href=\"#DejaVuSans-5f\"/>\n      <use transform=\"translate(721.826172 0.015625)\" xlink:href=\"#DejaVuSans-31\"/>\n     </g>\n    </g>\n   </g>\n   <g id=\"text_14\">\n    <g clip-path=\"url(#pb018f049c6)\">\n     <!-- ${u\\_layer0\\_qbit}\\_{2}$ -->\n     <g transform=\"translate(48.205474 138.6878)scale(0.1625 -0.1625)\">\n      <use transform=\"translate(0 0.015625)\" xlink:href=\"#DejaVuSans-Oblique-75\"/>\n      <use transform=\"translate(63.378906 0.015625)\" xlink:href=\"#DejaVuSans-5f\"/>\n      <use transform=\"translate(113.378906 0.015625)\" xlink:href=\"#DejaVuSans-Oblique-6c\"/>\n      <use transform=\"translate(141.162109 0.015625)\" xlink:href=\"#DejaVuSans-Oblique-61\"/>\n      <use transform=\"translate(202.441406 0.015625)\" xlink:href=\"#DejaVuSans-Oblique-79\"/>\n      <use transform=\"translate(261.621094 0.015625)\" xlink:href=\"#DejaVuSans-Oblique-65\"/>\n      <use transform=\"translate(323.144531 0.015625)\" xlink:href=\"#DejaVuSans-Oblique-72\"/>\n      <use transform=\"translate(364.257812 0.015625)\" xlink:href=\"#DejaVuSans-30\"/>\n      <use transform=\"translate(427.880859 0.015625)\" xlink:href=\"#DejaVuSans-5f\"/>\n      <use transform=\"translate(477.880859 0.015625)\" xlink:href=\"#DejaVuSans-Oblique-71\"/>\n      <use transform=\"translate(541.357422 0.015625)\" xlink:href=\"#DejaVuSans-Oblique-62\"/>\n      <use transform=\"translate(604.833984 0.015625)\" xlink:href=\"#DejaVuSans-Oblique-69\"/>\n      <use transform=\"translate(632.617188 0.015625)\" xlink:href=\"#DejaVuSans-Oblique-74\"/>\n      <use transform=\"translate(671.826172 0.015625)\" xlink:href=\"#DejaVuSans-5f\"/>\n      <use transform=\"translate(721.826172 0.015625)\" xlink:href=\"#DejaVuSans-32\"/>\n     </g>\n    </g>\n   </g>\n   <g id=\"text_15\">\n    <g clip-path=\"url(#pb018f049c6)\">\n     <!-- ${aux\\_qbit}\\_{0}$ -->\n     <g transform=\"translate(87.855474 184.1388)scale(0.1625 -0.1625)\">\n      <defs>\n       <path d=\"M 3841 3500 \nL 2234 1784 \nL 3219 0 \nL 2559 0 \nL 1819 1388 \nL 531 0 \nL -166 0 \nL 1556 1844 \nL 641 3500 \nL 1300 3500 \nL 1972 2234 \nL 3144 3500 \nL 3841 3500 \nz\n\" id=\"DejaVuSans-Oblique-78\" transform=\"scale(0.015625)\"/>\n      </defs>\n      <use transform=\"translate(0 0.015625)\" xlink:href=\"#DejaVuSans-Oblique-61\"/>\n      <use transform=\"translate(61.279297 0.015625)\" xlink:href=\"#DejaVuSans-Oblique-75\"/>\n      <use transform=\"translate(124.658203 0.015625)\" xlink:href=\"#DejaVuSans-Oblique-78\"/>\n      <use transform=\"translate(183.837891 0.015625)\" xlink:href=\"#DejaVuSans-5f\"/>\n      <use transform=\"translate(233.837891 0.015625)\" xlink:href=\"#DejaVuSans-Oblique-71\"/>\n      <use transform=\"translate(297.314453 0.015625)\" xlink:href=\"#DejaVuSans-Oblique-62\"/>\n      <use transform=\"translate(360.791016 0.015625)\" xlink:href=\"#DejaVuSans-Oblique-69\"/>\n      <use transform=\"translate(388.574219 0.015625)\" xlink:href=\"#DejaVuSans-Oblique-74\"/>\n      <use transform=\"translate(427.783203 0.015625)\" xlink:href=\"#DejaVuSans-5f\"/>\n      <use transform=\"translate(477.783203 0.015625)\" xlink:href=\"#DejaVuSans-30\"/>\n     </g>\n    </g>\n   </g>\n   <g id=\"text_16\">\n    <g clip-path=\"url(#pb018f049c6)\">\n     <!-- ${aux\\_qbit}\\_{1}$ -->\n     <g transform=\"translate(87.855474 229.5898)scale(0.1625 -0.1625)\">\n      <use transform=\"translate(0 0.015625)\" xlink:href=\"#DejaVuSans-Oblique-61\"/>\n      <use transform=\"translate(61.279297 0.015625)\" xlink:href=\"#DejaVuSans-Oblique-75\"/>\n      <use transform=\"translate(124.658203 0.015625)\" xlink:href=\"#DejaVuSans-Oblique-78\"/>\n      <use transform=\"translate(183.837891 0.015625)\" xlink:href=\"#DejaVuSans-5f\"/>\n      <use transform=\"translate(233.837891 0.015625)\" xlink:href=\"#DejaVuSans-Oblique-71\"/>\n      <use transform=\"translate(297.314453 0.015625)\" xlink:href=\"#DejaVuSans-Oblique-62\"/>\n      <use transform=\"translate(360.791016 0.015625)\" xlink:href=\"#DejaVuSans-Oblique-69\"/>\n      <use transform=\"translate(388.574219 0.015625)\" xlink:href=\"#DejaVuSans-Oblique-74\"/>\n      <use transform=\"translate(427.783203 0.015625)\" xlink:href=\"#DejaVuSans-5f\"/>\n      <use transform=\"translate(477.783203 0.015625)\" xlink:href=\"#DejaVuSans-31\"/>\n     </g>\n    </g>\n   </g>\n   <g id=\"text_17\">\n    <g clip-path=\"url(#pb018f049c6)\">\n     <!-- ${u\\_layer\\_output\\_qbit}\\_{0}$ -->\n     <g transform=\"translate(-3.144526 275.0408)scale(0.1625 -0.1625)\">\n      <defs>\n       <path d=\"M 1625 -91 \nQ 1009 -91 651 289 \nQ 294 669 294 1325 \nQ 294 1706 417 2101 \nQ 541 2497 738 2766 \nQ 1047 3184 1428 3384 \nQ 1809 3584 2291 3584 \nQ 2888 3584 3255 3212 \nQ 3622 2841 3622 2241 \nQ 3622 1825 3500 1412 \nQ 3378 1000 3181 728 \nQ 2875 309 2494 109 \nQ 2113 -91 1625 -91 \nz\nM 891 1344 \nQ 891 869 1089 633 \nQ 1288 397 1691 397 \nQ 2269 397 2648 901 \nQ 3028 1406 3028 2181 \nQ 3028 2634 2825 2865 \nQ 2622 3097 2228 3097 \nQ 1903 3097 1650 2945 \nQ 1397 2794 1197 2484 \nQ 1050 2253 970 1956 \nQ 891 1659 891 1344 \nz\n\" id=\"DejaVuSans-Oblique-6f\" transform=\"scale(0.015625)\"/>\n       <path d=\"M 3175 2156 \nQ 3175 2616 2975 2859 \nQ 2775 3103 2400 3103 \nQ 2144 3103 1911 2972 \nQ 1678 2841 1497 2591 \nQ 1319 2344 1212 1994 \nQ 1106 1644 1106 1300 \nQ 1106 863 1306 627 \nQ 1506 391 1875 391 \nQ 2147 391 2380 519 \nQ 2613 647 2778 891 \nQ 2956 1147 3065 1494 \nQ 3175 1841 3175 2156 \nz\nM 1394 2969 \nQ 1625 3272 1939 3428 \nQ 2253 3584 2638 3584 \nQ 3175 3584 3472 3232 \nQ 3769 2881 3769 2247 \nQ 3769 1728 3584 1258 \nQ 3400 788 3053 416 \nQ 2822 169 2531 39 \nQ 2241 -91 1919 -91 \nQ 1547 -91 1294 64 \nQ 1041 219 916 525 \nL 556 -1331 \nL -19 -1331 \nL 922 3500 \nL 1497 3500 \nL 1394 2969 \nz\n\" id=\"DejaVuSans-Oblique-70\" transform=\"scale(0.015625)\"/>\n      </defs>\n      <use transform=\"translate(0 0.015625)\" xlink:href=\"#DejaVuSans-Oblique-75\"/>\n      <use transform=\"translate(63.378906 0.015625)\" xlink:href=\"#DejaVuSans-5f\"/>\n      <use transform=\"translate(113.378906 0.015625)\" xlink:href=\"#DejaVuSans-Oblique-6c\"/>\n      <use transform=\"translate(141.162109 0.015625)\" xlink:href=\"#DejaVuSans-Oblique-61\"/>\n      <use transform=\"translate(202.441406 0.015625)\" xlink:href=\"#DejaVuSans-Oblique-79\"/>\n      <use transform=\"translate(261.621094 0.015625)\" xlink:href=\"#DejaVuSans-Oblique-65\"/>\n      <use transform=\"translate(323.144531 0.015625)\" xlink:href=\"#DejaVuSans-Oblique-72\"/>\n      <use transform=\"translate(364.257812 0.015625)\" xlink:href=\"#DejaVuSans-5f\"/>\n      <use transform=\"translate(414.257812 0.015625)\" xlink:href=\"#DejaVuSans-Oblique-6f\"/>\n      <use transform=\"translate(475.439453 0.015625)\" xlink:href=\"#DejaVuSans-Oblique-75\"/>\n      <use transform=\"translate(538.818359 0.015625)\" xlink:href=\"#DejaVuSans-Oblique-74\"/>\n      <use transform=\"translate(578.027344 0.015625)\" xlink:href=\"#DejaVuSans-Oblique-70\"/>\n      <use transform=\"translate(641.503906 0.015625)\" xlink:href=\"#DejaVuSans-Oblique-75\"/>\n      <use transform=\"translate(704.882812 0.015625)\" xlink:href=\"#DejaVuSans-Oblique-74\"/>\n      <use transform=\"translate(744.091797 0.015625)\" xlink:href=\"#DejaVuSans-5f\"/>\n      <use transform=\"translate(794.091797 0.015625)\" xlink:href=\"#DejaVuSans-Oblique-71\"/>\n      <use transform=\"translate(857.568359 0.015625)\" xlink:href=\"#DejaVuSans-Oblique-62\"/>\n      <use transform=\"translate(921.044922 0.015625)\" xlink:href=\"#DejaVuSans-Oblique-69\"/>\n      <use transform=\"translate(948.828125 0.015625)\" xlink:href=\"#DejaVuSans-Oblique-74\"/>\n      <use transform=\"translate(988.037109 0.015625)\" xlink:href=\"#DejaVuSans-5f\"/>\n      <use transform=\"translate(1038.037109 0.015625)\" xlink:href=\"#DejaVuSans-30\"/>\n     </g>\n    </g>\n   </g>\n   <g id=\"text_18\">\n    <g clip-path=\"url(#pb018f049c6)\">\n     <!-- reg -->\n     <g transform=\"translate(149.300787 320.750784)scale(0.1625 -0.1625)\">\n      <defs>\n       <path d=\"M 2631 2963 \nQ 2534 3019 2420 3045 \nQ 2306 3072 2169 3072 \nQ 1681 3072 1420 2755 \nQ 1159 2438 1159 1844 \nL 1159 0 \nL 581 0 \nL 581 3500 \nL 1159 3500 \nL 1159 2956 \nQ 1341 3275 1631 3429 \nQ 1922 3584 2338 3584 \nQ 2397 3584 2469 3576 \nQ 2541 3569 2628 3553 \nL 2631 2963 \nz\n\" id=\"DejaVuSans-72\" transform=\"scale(0.015625)\"/>\n       <path d=\"M 3597 1894 \nL 3597 1613 \nL 953 1613 \nQ 991 1019 1311 708 \nQ 1631 397 2203 397 \nQ 2534 397 2845 478 \nQ 3156 559 3463 722 \nL 3463 178 \nQ 3153 47 2828 -22 \nQ 2503 -91 2169 -91 \nQ 1331 -91 842 396 \nQ 353 884 353 1716 \nQ 353 2575 817 3079 \nQ 1281 3584 2069 3584 \nQ 2775 3584 3186 3129 \nQ 3597 2675 3597 1894 \nz\nM 3022 2063 \nQ 3016 2534 2758 2815 \nQ 2500 3097 2075 3097 \nQ 1594 3097 1305 2825 \nQ 1016 2553 972 2059 \nL 3022 2063 \nz\n\" id=\"DejaVuSans-65\" transform=\"scale(0.015625)\"/>\n       <path d=\"M 2906 1791 \nQ 2906 2416 2648 2759 \nQ 2391 3103 1925 3103 \nQ 1463 3103 1205 2759 \nQ 947 2416 947 1791 \nQ 947 1169 1205 825 \nQ 1463 481 1925 481 \nQ 2391 481 2648 825 \nQ 2906 1169 2906 1791 \nz\nM 3481 434 \nQ 3481 -459 3084 -895 \nQ 2688 -1331 1869 -1331 \nQ 1566 -1331 1297 -1286 \nQ 1028 -1241 775 -1147 \nL 775 -588 \nQ 1028 -725 1275 -790 \nQ 1522 -856 1778 -856 \nQ 2344 -856 2625 -561 \nQ 2906 -266 2906 331 \nL 2906 616 \nQ 2728 306 2450 153 \nQ 2172 0 1784 0 \nQ 1141 0 747 490 \nQ 353 981 353 1791 \nQ 353 2603 747 3093 \nQ 1141 3584 1784 3584 \nQ 2172 3584 2450 3431 \nQ 2728 3278 2906 2969 \nL 2906 3500 \nL 3481 3500 \nL 3481 434 \nz\n\" id=\"DejaVuSans-67\" transform=\"scale(0.015625)\"/>\n      </defs>\n      <use xlink:href=\"#DejaVuSans-72\"/>\n      <use x=\"38.863281\" xlink:href=\"#DejaVuSans-65\"/>\n      <use x=\"100.386719\" xlink:href=\"#DejaVuSans-67\"/>\n     </g>\n    </g>\n   </g>\n  </g>\n </g>\n <defs>\n  <clipPath id=\"pb018f049c6\">\n   <rect height=\"336.3374\" width=\"732.322874\" x=\"7.2\" y=\"7.2\"/>\n  </clipPath>\n </defs>\n</svg>\n",
            "image/png": "[encoded data removed]"
          },
          "metadata": {},
          "execution_count": 38
        }
      ],
      "metadata": {
        "colab": {
          "base_uri": "https://localhost:8080/",
          "height": 377
        },
        "id": "QVp-mYN_AGln",
        "outputId": "1f04b6ec-85ac-4301-9a80-572a377f072d"
      }
    },
    {
      "cell_type": "code",
      "execution_count": 39,
      "source": [
        "!pip install pylatexenc"
      ],
      "outputs": [
        {
          "output_type": "stream",
          "name": "stdout",
          "text": [
            "Requirement already satisfied: pylatexenc in /home/hzr/anaconda3/envs/qf/lib/python3.8/site-packages (2.10)\n"
          ]
        }
      ],
      "metadata": {
        "colab": {
          "base_uri": "https://localhost:8080/"
        },
        "id": "S7-9GuHjX6YD",
        "outputId": "642d043f-ff81-4d63-a036-471d352685d5"
      }
    },
    {
      "cell_type": "markdown",
      "source": [
        "## train and test"
      ],
      "metadata": {
        "id": "_3wQjg9vAGlo"
      }
    },
    {
      "cell_type": "code",
      "execution_count": 40,
      "source": [
        "from torchvision import datasets\n",
        "circuit_result = []\n",
        "\n",
        "\n",
        "input_data = torch.load(\"./liang_random_data.pt\")\n",
        "target = torch.load(\"./liang_random_target.pt\")\n",
        "target = target.int()\n",
        "correct_weight = torch.load(\"./liang_weight.pt\")\n",
        "\n",
        "#weight = torch.tensor([[1,1,1,1,1,1,1,1]],dtype=torch.double)\n",
        "weight = correct_weight\n",
        "\n",
        "input_data_num =  target.shape[0]\n",
        "train_num = int(input_data_num *0)\n",
        "#train\n",
        "for i in range(train_num):\n",
        "    quantum_matrix =to_quantum_matrix(input_data[i])\n",
        "    circuit = QuantumCircuit()   \n",
        "    prob = forward(circuit,quantum_matrix,weight,False)\n",
        "    if prob >= threshold :\n",
        "        res = 1\n",
        "    else:\n",
        "        res = -1\n",
        "    ##TODO:update weight#\n",
        "\n",
        "    #####################\n",
        "\n",
        "print(\"weight :\",weight)\n",
        "\n",
        "#test\n",
        "for i in range(train_num,input_data_num):\n",
        "    quantum_matrix =to_quantum_matrix(input_data[i])\n",
        "\n",
        "    circuit = QuantumCircuit()   \n",
        "    prob = forward(circuit,quantum_matrix,weight,False)\n",
        "\n",
        "    if prob >= threshold :\n",
        "        circuit_result.append(1)\n",
        "    else:\n",
        "        circuit_result.append(-1)\n",
        "\n",
        "circuit_result_tensor = torch.tensor(circuit_result,dtype=torch.double)\n",
        "circuit_result_tensor = circuit_result_tensor.int()\n",
        "error_num = (circuit_result_tensor != target[train_num:input_data_num]).sum()\n",
        "\n",
        "print(\"error_num :\",error_num)\n",
        "print(\"error_rate:\",float(error_num)/(input_data_num - train_num))"
      ],
      "outputs": [
        {
          "output_type": "stream",
          "name": "stdout",
          "text": [
            "weight : tensor([[-1., -1.,  1.,  1.,  1.,  1.,  1.,  1.]], dtype=torch.float64)\n",
            "error_num : tensor(2)\n",
            "error_rate: 0.2\n"
          ]
        }
      ],
      "metadata": {
        "colab": {
          "base_uri": "https://localhost:8080/"
        },
        "id": "mJ1IDIj9AGlo",
        "outputId": "45bc07e6-ee39-4725-b078-a68b8b123203"
      }
    }
  ]
}