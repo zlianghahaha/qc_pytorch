{
 "cells": [
  {
   "cell_type": "markdown",
   "source": [
    "# using illustratiom\n",
    "\n",
    "You can compose different layers into a net by change '-nn'\n",
    "format: [u/c/f/p/p2a/v/v10/v5/n](name) + output_num\n",
    "note:\n",
    "1.u:u-layer\n",
    "  c:classical binary linner\n",
    "  f:nn.linner\n",
    "  p:p-layer\n",
    "  p2a: probability to amptitude\n",
    "  v: variant quantum circuit\n",
    "  v10: the num.10 variant quantum circuit\n",
    "  v5: the num.5 variant quantum circuit\n",
    "  n: quantum batch normalization\n",
    "\n",
    "2.p2a must be explicitly defined, but a2p is implict ,which is judged by the output num of vqc\n",
    "  eg :  v:16,u:2 ( no a2p in v-layer)\n",
    "        v:4,u:2 ( a2p in v-layer)"
   ],
   "metadata": {}
  },
  {
   "cell_type": "code",
   "execution_count": null,
   "source": [
    "is_colab = False\n",
    "import sys\n",
    "if is_colab:\n",
    "    try:\n",
    "        import torch  \n",
    "        print('Module torch was installed')\n",
    "    except ImportError:    \n",
    "        print(\"Installinng torch 1.8.1\")\n",
    "        !pip install -q torch==1.8.1\n",
    "    try:\n",
    "        import torchvision  \n",
    "        print('Module torchvision was installed')\n",
    "    except ImportError:    \n",
    "        print(\"Installinng torchvision 0.4.0\")\n",
    "        !pip install -q torchvision==0.4.0\n",
    "    \n",
    "    try:\n",
    "        import qiskit  \n",
    "        print('Module qiskit was installed')\n",
    "    except ImportError:    \n",
    "        print(\"Installinng qiskit 0.14.0\")\n",
    "        !pip install -q qiskit==0.14.0\n",
    "\n",
    "    !wget --no-check-certificate 'https://docs.google.com/uc?export=download&id=1v8qjhtdzOe1y2kzWGNdB-QsfdLwmL74k' -O codes.tar.gz\n",
    "    !tar zxvf /content/codes.tar.gz\n",
    "\n",
    "    sys.path.append('/content/libs/')\n",
    "\n",
    "    !python content/libs/training/exe_mnist.py -h"
   ],
   "outputs": [],
   "metadata": {}
  },
  {
   "cell_type": "code",
   "execution_count": null,
   "source": [
    "if is_colab:\n",
    "    !python content/libs/training/exe_mnist.py -dp '/content/data'  -chkpath '/content' -c \"3,6\" -s \"4\" -tb \"64\" -nn \"u:4,p2a:16,v10:2\" -l '0.1' -m \"2,6, 8, 9\" -e '10'"
   ],
   "outputs": [],
   "metadata": {}
  }
 ],
 "metadata": {
  "orig_nbformat": 4,
  "language_info": {
   "name": "python"
  }
 },
 "nbformat": 4,
 "nbformat_minor": 2
}