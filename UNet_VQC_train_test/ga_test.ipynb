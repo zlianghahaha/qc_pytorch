{
  "nbformat": 4,
  "nbformat_minor": 2,
  "metadata": {
    "orig_nbformat": 4,
    "language_info": {
      "name": "python",
      "version": "3.8.10",
      "mimetype": "text/x-python",
      "codemirror_mode": {
        "name": "ipython",
        "version": 3
      },
      "pygments_lexer": "ipython3",
      "nbconvert_exporter": "python",
      "file_extension": ".py"
    },
    "kernelspec": {
      "name": "python3",
      "display_name": "Python 3.8.10 64-bit ('qf': conda)"
    },
    "interpreter": {
      "hash": "f24048f0d5bdb0ff49c5e7c8a9899a65bc3ab13b0f32660a2227453ca6b95fd8"
    },
    "colab": {
      "name": "liang.ipynb",
      "provenance": []
    }
  },
  "cells": [
    {
      "cell_type": "code",
      "execution_count": null,
      "source": [
        "from sko.GA import GA\n",
        "import pandas as pd\n",
        "import matplotlib.pyplot as plt\n",
        "import numpy as np\n",
        "\n",
        "\n",
        "def schaffer(p):\n",
        "    '''\n",
        "    This function has plenty of local minimum, with strong shocks\n",
        "    global minimum at (0,0) with value 0\n",
        "    '''\n",
        "    x1, x2 = p\n",
        "    x = np.square(x1) + np.square(x2)\n",
        "    return 0.5 + (np.square(np.sin(x)) - 0.5) / np.square(1 + 0.001 * x)\n",
        "\n",
        "\n",
        "# %%\n",
        "\n",
        "ga = GA(func=schaffer, n_dim=2, size_pop=50, max_iter=800, prob_mut=0.001, lb=[-1, -1], ub=[1, 1], precision=1e-7)\n",
        "best_x, best_y = ga.run()\n",
        "print('best_x:', best_x, '\\n', 'best_y:', best_y)\n",
        "# %% Plot the result\n",
        "\n",
        "\n",
        "Y_history = pd.DataFrame(ga.all_history_Y)\n",
        "fig, ax = plt.subplots(2, 1)\n",
        "ax[0].plot(Y_history.index, Y_history.values, '.', color='red')\n",
        "Y_history.min(axis=1).cummin().plot(kind='line')\n",
        "plt.show()"
      ],
      "outputs": [],
      "metadata": {}
    }
  ]
}